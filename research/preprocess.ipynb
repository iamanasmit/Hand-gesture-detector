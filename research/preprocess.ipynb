{
 "cells": [
  {
   "cell_type": "code",
   "execution_count": 1,
   "metadata": {},
   "outputs": [],
   "source": [
    "import os\n",
    "os.chdir('..')"
   ]
  },
  {
   "cell_type": "code",
   "execution_count": 2,
   "metadata": {},
   "outputs": [
    {
     "data": {
      "text/plain": [
       "'c:\\\\Users\\\\anasm\\\\OneDrive\\\\Desktop\\\\Image Processing\\\\Hand Gesture Detector'"
      ]
     },
     "execution_count": 2,
     "metadata": {},
     "output_type": "execute_result"
    }
   ],
   "source": [
    "%pwd"
   ]
  },
  {
   "cell_type": "code",
   "execution_count": 3,
   "metadata": {},
   "outputs": [],
   "source": [
    "from src.constants import CONFIG_FILE_PATH, PARAM_FILE_PATH\n",
    "from src.utils import read_yaml, create_directories"
   ]
  },
  {
   "cell_type": "code",
   "execution_count": 4,
   "metadata": {},
   "outputs": [],
   "source": [
    "#to entity\n",
    "from dataclasses import dataclass\n",
    "from pathlib import Path\n",
    "\n",
    "@dataclass(frozen= True)\n",
    "class PreprocessConfig:\n",
    "    data_path: Path\n",
    "    preprocessed_data_dir: Path\n",
    "    image_tensor_path: Path\n",
    "    labels_path: Path\n",
    "    image_size: list\n",
    "    classes: int"
   ]
  },
  {
   "cell_type": "code",
   "execution_count": 5,
   "metadata": {},
   "outputs": [],
   "source": [
    "#to configuration\n",
    "class ConfigManager:\n",
    "    def __init__(\n",
    "        self,\n",
    "        config=CONFIG_FILE_PATH,\n",
    "        params=PARAM_FILE_PATH):\n",
    "\n",
    "        self.config=read_yaml(config)\n",
    "        self.params=read_yaml(params)\n",
    "\n",
    "    def get_preprocess_config(self)->PreprocessConfig:\n",
    "        create_directories(self.config.preprocess_data.preprocessed_data_dir)\n",
    "\n",
    "        PreprocessConfigObj=PreprocessConfig(\n",
    "            data_path= self.config.data_root,\n",
    "            preprocessed_data_dir= self.config.preprocess_data.preprocessed_data_dir,\n",
    "            image_tensor_path=self.config.preprocess_data.image_tensors_path,\n",
    "            labels_path= self.config.preprocess_data.labels_path,\n",
    "            image_size= self.params.IMAGE_SIZE,\n",
    "            classes= self.params.CLASSES\n",
    "        )\n",
    "\n",
    "        return PreprocessConfigObj"
   ]
  },
  {
   "cell_type": "code",
   "execution_count": 6,
   "metadata": {},
   "outputs": [],
   "source": [
    "#to components\n",
    "import pickle\n",
    "import cv2\n",
    "import numpy as np\n",
    "from tensorflow.keras.applications.vgg16 import preprocess_input\n",
    "\n",
    "class Preprocess:\n",
    "    def __init__(self, config:PreprocessConfig) -> None:\n",
    "        self.config=config\n",
    "        self.images=[]\n",
    "        self.labels=[]\n",
    "\n",
    "    '''\n",
    "    call me:0\n",
    "    fingers crossed:1\n",
    "    okay:2\n",
    "    paper:3\n",
    "    peace: 4\n",
    "    rock: 5\n",
    "    rock_on: 6\n",
    "    scissor: 7\n",
    "    thumns: 8\n",
    "    up:9\n",
    "    '''\n",
    "    \n",
    "    def process(self):\n",
    "        i=0\n",
    "        for folder in os.listdir(self.config.data_path):\n",
    "            folder_path=os.path.join(self.config.data_path, folder)\n",
    "\n",
    "            for filename in os.listdir(folder_path):\n",
    "                lst=[]\n",
    "                for j in range(self.config.classes):\n",
    "                    lst.append(0)\n",
    "\n",
    "                lst[i]=1\n",
    "                self.labels.append(lst)\n",
    "\n",
    "                img=cv2.imread(str(os.path.join(folder_path, filename)), 1)\n",
    "                img=cv2.resize(img, (self.config.image_size[0], self.config.image_size[1]))\n",
    "                self.images.append(img)\n",
    "            \n",
    "            i+=1\n",
    "        \n",
    "        self.images=np.array(self.images, dtype=np.float32)\n",
    "        self.labels=np.array(self.labels, dtype=np.uint8)\n",
    "\n",
    "        self.images=preprocess_input(self.images)\n",
    "\n",
    "        with open(Path(self.config.image_tensor_path), 'wb') as file:\n",
    "            pickle.dump(self.images, file)\n",
    "        \n",
    "        with open(Path(self.config.labels_path), 'wb') as file:\n",
    "            pickle.dump(self.labels, file)\n"
   ]
  },
  {
   "cell_type": "code",
   "execution_count": 7,
   "metadata": {},
   "outputs": [
    {
     "name": "stdout",
     "output_type": "stream",
     "text": [
      "yaml file: C:\\Users\\anasm\\OneDrive\\Desktop\\Image Processing\\Hand Gesture Detector\\config\\config.yaml loaded successfully\n",
      "yaml file: C:\\Users\\anasm\\OneDrive\\Desktop\\Image Processing\\Hand Gesture Detector\\config\\params.yaml loaded successfully\n"
     ]
    }
   ],
   "source": [
    "c=ConfigManager()\n",
    "preprocess_config=c.get_preprocess_config()"
   ]
  },
  {
   "cell_type": "code",
   "execution_count": 8,
   "metadata": {},
   "outputs": [],
   "source": [
    "p=Preprocess(preprocess_config)"
   ]
  },
  {
   "cell_type": "code",
   "execution_count": 9,
   "metadata": {},
   "outputs": [
    {
     "data": {
      "text/plain": [
       "'data'"
      ]
     },
     "execution_count": 9,
     "metadata": {},
     "output_type": "execute_result"
    }
   ],
   "source": [
    "p.config.data_path"
   ]
  },
  {
   "cell_type": "code",
   "execution_count": 10,
   "metadata": {},
   "outputs": [],
   "source": [
    "p.process()"
   ]
  },
  {
   "cell_type": "code",
   "execution_count": 11,
   "metadata": {},
   "outputs": [
    {
     "name": "stderr",
     "output_type": "stream",
     "text": [
      "Clipping input data to the valid range for imshow with RGB data ([0..1] for floats or [0..255] for integers).\n"
     ]
    },
    {
     "data": {
      "text/plain": [
       "<matplotlib.image.AxesImage at 0x19fe2a36870>"
      ]
     },
     "execution_count": 11,
     "metadata": {},
     "output_type": "execute_result"
    },
    {
     "data": {
      "image/png": "[encoded data removed]",
      "text/plain": [
       "<Figure size 640x480 with 1 Axes>"
      ]
     },
     "metadata": {},
     "output_type": "display_data"
    }
   ],
   "source": [
    "import matplotlib.pyplot as plt\n",
    "plt.imshow(p.images[0])"
   ]
  },
  {
   "cell_type": "code",
   "execution_count": 12,
   "metadata": {},
   "outputs": [
    {
     "name": "stdout",
     "output_type": "stream",
     "text": [
      "[1 0 0 0 0 0 0 0 0 0]\n"
     ]
    }
   ],
   "source": [
    "print(p.labels[0])"
   ]
  },
  {
   "cell_type": "code",
   "execution_count": 15,
   "metadata": {},
   "outputs": [
    {
     "data": {
      "text/plain": [
       "(5243, 224, 224, 3)"
      ]
     },
     "execution_count": 15,
     "metadata": {},
     "output_type": "execute_result"
    }
   ],
   "source": [
    "p.images.shape"
   ]
  },
  {
   "cell_type": "code",
   "execution_count": 16,
   "metadata": {},
   "outputs": [
    {
     "data": {
      "text/plain": [
       "(5243, 10)"
      ]
     },
     "execution_count": 16,
     "metadata": {},
     "output_type": "execute_result"
    }
   ],
   "source": [
    "p.labels.shape"
   ]
  },
  {
   "cell_type": "code",
   "execution_count": null,
   "metadata": {},
   "outputs": [],
   "source": []
  }
 ],
 "metadata": {
  "kernelspec": {
   "display_name": "Python 3",
   "language": "python",
   "name": "python3"
  },
  "language_info": {
   "codemirror_mode": {
    "name": "ipython",
    "version": 3
   },
   "file_extension": ".py",
   "mimetype": "text/x-python",
   "name": "python",
   "nbconvert_exporter": "python",
   "pygments_lexer": "ipython3",
   "version": "3.12.1"
  }
 },
 "nbformat": 4,
 "nbformat_minor": 2
}
