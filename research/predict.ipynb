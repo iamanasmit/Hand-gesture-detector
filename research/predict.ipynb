{
 "cells": [
  {
   "cell_type": "code",
   "execution_count": 1,
   "metadata": {},
   "outputs": [],
   "source": [
    "import os\n",
    "os.chdir('..')"
   ]
  },
  {
   "cell_type": "code",
   "execution_count": 2,
   "metadata": {},
   "outputs": [
    {
     "data": {
      "text/plain": [
       "'c:\\\\Users\\\\anasm\\\\OneDrive\\\\Desktop\\\\Image Processing\\\\Hand Gesture Detector'"
      ]
     },
     "execution_count": 2,
     "metadata": {},
     "output_type": "execute_result"
    }
   ],
   "source": [
    "%pwd"
   ]
  },
  {
   "cell_type": "code",
   "execution_count": 3,
   "metadata": {},
   "outputs": [],
   "source": [
    "from src.constants import CONFIG_FILE_PATH, PARAM_FILE_PATH\n",
    "from src.utils import read_yaml"
   ]
  },
  {
   "cell_type": "code",
   "execution_count": 4,
   "metadata": {},
   "outputs": [],
   "source": [
    "#add to entity\n",
    "from dataclasses import dataclass\n",
    "from pathlib import Path\n",
    "\n",
    "@dataclass(frozen=True)\n",
    "class PredictConfig:\n",
    "    prediction_dir: Path\n",
    "    trained_model_path: Path\n",
    "    image_size: list\n",
    "    "
   ]
  },
  {
   "cell_type": "code",
   "execution_count": 5,
   "metadata": {},
   "outputs": [],
   "source": [
    "#add to config\n",
    "class ConfigManager:\n",
    "    def __init__(\n",
    "        self,\n",
    "        config=CONFIG_FILE_PATH,\n",
    "        param=PARAM_FILE_PATH):\n",
    "\n",
    "        self.config=read_yaml(config)\n",
    "        self.param=read_yaml(param)\n",
    "\n",
    "    def get_predict_config(self):\n",
    "        predict_config_obj=PredictConfig(\n",
    "            prediction_dir=self.config.prediction.prediction_dir,\n",
    "            trained_model_path=self.config.prediction.trained_model_path,\n",
    "            image_size=self.param.IMAGE_SIZE\n",
    "        )\n",
    "\n",
    "        return predict_config_obj"
   ]
  },
  {
   "cell_type": "code",
   "execution_count": 6,
   "metadata": {},
   "outputs": [
    {
     "name": "stdout",
     "output_type": "stream",
     "text": [
      "yaml file: C:\\Users\\anasm\\OneDrive\\Desktop\\Image Processing\\Hand Gesture Detector\\config\\config.yaml loaded successfully\n",
      "yaml file: C:\\Users\\anasm\\OneDrive\\Desktop\\Image Processing\\Hand Gesture Detector\\config\\params.yaml loaded successfully\n"
     ]
    }
   ],
   "source": [
    "c=ConfigManager()\n",
    "predict_conf=c.get_predict_config()"
   ]
  },
  {
   "cell_type": "code",
   "execution_count": 7,
   "metadata": {},
   "outputs": [
    {
     "data": {
      "text/plain": [
       "PredictConfig(prediction_dir='predict', trained_model_path='artifacts/trained_model/trained_model.keras', image_size=BoxList([224, 224, 3]))"
      ]
     },
     "execution_count": 7,
     "metadata": {},
     "output_type": "execute_result"
    }
   ],
   "source": [
    "predict_conf"
   ]
  },
  {
   "cell_type": "code",
   "execution_count": 8,
   "metadata": {},
   "outputs": [
    {
     "name": "stderr",
     "output_type": "stream",
     "text": [
      "c:\\Users\\anasm\\AppData\\Local\\Programs\\Python\\Python312\\Lib\\site-packages\\keras\\src\\saving\\saving_lib.py:415: UserWarning: Skipping variable loading for optimizer 'rmsprop', because it has 12 variables whereas the saved optimizer has 22 variables. \n",
      "  saveable.load_own_variables(weights_store.get(inner_path))\n"
     ]
    }
   ],
   "source": [
    "import tensorflow as tf\n",
    "model=tf.keras.models.load_model(predict_conf.trained_model_path)#works"
   ]
  },
  {
   "cell_type": "code",
   "execution_count": 9,
   "metadata": {},
   "outputs": [],
   "source": [
    "#for components\n",
    "import cv2\n",
    "import numpy as np\n",
    "from tensorflow.keras.applications.vgg16 import preprocess_input\n",
    "import tensorflow as tf\n",
    "\n",
    "class Predictor:\n",
    "    def __init__(self, config: PredictConfig):\n",
    "        self.config=config\n",
    "\n",
    "    def estimate(self):\n",
    "        self.images=[]\n",
    "        for fielname in os.listdir(self.config.prediction_dir):\n",
    "            filepath=os.path.join(self.config.prediction_dir, fielname)\n",
    "            img=cv2.imread(filepath, 1)\n",
    "            img=cv2.resize(img, (self.config.image_size[0], self.config.image_size[1]))\n",
    "            self.images.append(img)\n",
    "\n",
    "        self.images=np.array(self.images, dtype=np.float32)\n",
    "        self.images=preprocess_input(self.images)\n",
    "        self.model=tf.keras.models.load_model(self.config.trained_model_path)\n",
    "\n",
    "        self.y_one_hot=self.model.predict(self.images)\n",
    "\n",
    "        for i in range(len(self.y_one_hot)):\n",
    "            print(self.y_one_hot[i].argmax())"
   ]
  },
  {
   "cell_type": "code",
   "execution_count": 10,
   "metadata": {},
   "outputs": [
    {
     "name": "stdout",
     "output_type": "stream",
     "text": [
      "\u001b[1m1/1\u001b[0m \u001b[32m━━━━━━━━━━━━━━━━━━━━\u001b[0m\u001b[37m\u001b[0m \u001b[1m4s\u001b[0m 4s/step\n",
      "0\n",
      "0\n",
      "0\n",
      "0\n",
      "0\n",
      "0\n",
      "0\n",
      "0\n",
      "0\n",
      "0\n",
      "0\n",
      "0\n",
      "0\n",
      "0\n",
      "0\n",
      "0\n",
      "0\n",
      "0\n",
      "0\n",
      "0\n",
      "0\n",
      "0\n",
      "0\n",
      "0\n",
      "0\n"
     ]
    }
   ],
   "source": [
    "p=Predictor(predict_conf)\n",
    "p.estimate()"
   ]
  },
  {
   "cell_type": "code",
   "execution_count": null,
   "metadata": {},
   "outputs": [],
   "source": []
  }
 ],
 "metadata": {
  "kernelspec": {
   "display_name": "Python 3",
   "language": "python",
   "name": "python3"
  },
  "language_info": {
   "codemirror_mode": {
    "name": "ipython",
    "version": 3
   },
   "file_extension": ".py",
   "mimetype": "text/x-python",
   "name": "python",
   "nbconvert_exporter": "python",
   "pygments_lexer": "ipython3",
   "version": "3.12.1"
  }
 },
 "nbformat": 4,
 "nbformat_minor": 2
}
